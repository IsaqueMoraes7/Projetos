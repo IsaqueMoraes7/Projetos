{
 "cells": [
  {
   "cell_type": "markdown",
   "id": "30528aaf",
   "metadata": {},
   "source": [
    "# Projeto PYTHON"
   ]
  },
  {
   "cell_type": "code",
   "execution_count": 1,
   "id": "b52e508e",
   "metadata": {},
   "outputs": [
    {
     "name": "stdout",
     "output_type": "stream",
     "text": [
      "Python\n"
     ]
    }
   ],
   "source": [
    "print('Python')"
   ]
  },
  {
   "cell_type": "markdown",
   "id": "5c4df3d1",
   "metadata": {},
   "source": [
    "# Imput (Caixa)"
   ]
  },
  {
   "cell_type": "code",
   "execution_count": 1,
   "id": "1fde2edc",
   "metadata": {},
   "outputs": [
    {
     "name": "stdout",
     "output_type": "stream",
     "text": [
      "Digite o Nome do Projeto: Free fire\n",
      "Digite as Horas Estimadas: 57\n",
      "Digite o Valor das Horas Trabalhadas: 57\n",
      "Digite o Prazo da Entrega: 5 dias\n"
     ]
    },
    {
     "data": {
      "text/plain": [
       "'5 dias'"
      ]
     },
     "execution_count": 1,
     "metadata": {},
     "output_type": "execute_result"
    }
   ],
   "source": [
    "# Gerando a Caixa de Digitação\n",
    "input('Digite o Nome do Projeto: ')\n",
    "input('Digite as Horas Estimadas: ')\n",
    "input('Digite o Valor das Horas Trabalhadas: ')\n",
    "input('Digite o Prazo da Entrega: ')"
   ]
  },
  {
   "cell_type": "markdown",
   "id": "ec084896",
   "metadata": {},
   "source": [
    "# Variavel ( Guardando dados )"
   ]
  },
  {
   "cell_type": "code",
   "execution_count": 14,
   "id": "bfdf1cf8",
   "metadata": {},
   "outputs": [
    {
     "name": "stdout",
     "output_type": "stream",
     "text": [
      "Digite o Nome do Projeto: Free Fire \n",
      "Digite as Horas Estimadas: 57\n",
      "Digite o Valor das Horas Trabalhadas: 57\n",
      "Digite o Prao da Entrega: 5 dias e 7 min\n"
     ]
    }
   ],
   "source": [
    "# Variaveis/ Guardando os Dados\n",
    "nome = input('Digite o Nome do Projeto: ')\n",
    "horas_estimadas = input('Digite as Horas Estimadas: ')\n",
    "horas_trabalhadas = input('Digite o Valor das Horas Trabalhadas: ')\n",
    "prazo = input('Digite o Prazo da Entrega: ')\n"
   ]
  },
  {
   "cell_type": "code",
   "execution_count": 15,
   "id": "b046a078",
   "metadata": {},
   "outputs": [
    {
     "name": "stdout",
     "output_type": "stream",
     "text": [
      "5 dias e 7 min\n"
     ]
    }
   ],
   "source": [
    "print(prazo)"
   ]
  },
  {
   "cell_type": "markdown",
   "id": "93828bd8",
   "metadata": {},
   "source": [
    "# Realizando Cálculos ( Matemática )\n",
    "valor total do projeto = horas previstas * valor da hora"
   ]
  },
  {
   "cell_type": "code",
   "execution_count": 16,
   "id": "db92b389",
   "metadata": {},
   "outputs": [
    {
     "data": {
      "text/plain": [
       "3249"
      ]
     },
     "execution_count": 16,
     "metadata": {},
     "output_type": "execute_result"
    }
   ],
   "source": [
    "# Realizando os cálculos\n",
    "\n",
    "valor_total = int(horas_estimadas) * int(horas_trabalhadas)\n",
    "\n",
    "int(horas_estimadas) * int(horas_trabalhadas)\n"
   ]
  },
  {
   "cell_type": "code",
   "execution_count": 11,
   "id": "c888340e",
   "metadata": {},
   "outputs": [],
   "source": []
  },
  {
   "cell_type": "markdown",
   "id": "4e9196c2",
   "metadata": {},
   "source": [
    "# Criando o PDF\n",
    "*instalar o pdf\n",
    "\n",
    "*!pip install fpdf (PDF)"
   ]
  },
  {
   "cell_type": "code",
   "execution_count": 17,
   "id": "171dc011",
   "metadata": {},
   "outputs": [],
   "source": [
    "# Instalando a Biblioteca\n",
    "!pip install fpdf\n",
    "\n",
    "# Importando a Biblioteca\n",
    "from fpdf import FPDF"
   ]
  },
  {
   "cell_type": "code",
   "execution_count": 18,
   "id": "dc1ac9af",
   "metadata": {},
   "outputs": [
    {
     "name": "stdout",
     "output_type": "stream",
     "text": [
      "Orçamento Feito Com Sucesso!!\n"
     ]
    }
   ],
   "source": [
    "# Dando Nome?/Abreviando o Nome da Biblioteca\n",
    "pdf = FPDF()\n",
    "\n",
    "# Adicionando a Página e a Fonte do PDF\n",
    "pdf.add_page()\n",
    "pdf.set_font(\"Arial\")\n",
    "\n",
    "# Adicionando a Imagem/Template do PDF\n",
    "pdf.image('template.png', x = 0, y = 0)\n",
    "\n",
    "# Dando as codernadas a Frases/Cálculos\n",
    "pdf.text(115, 145, nome)\n",
    "pdf.text(115, 160, horas_estimadas)\n",
    "pdf.text(115, 175, horas_trabalhadas)\n",
    "pdf.text(115, 190, prazo)\n",
    "pdf.text(115, 205, str(valor_total))\n",
    "\n",
    "# Gerando o PDF\n",
    "pdf.output(\"FreeFire.pdf\")\n",
    "\n",
    "# Mensagem de Concluído o PDF\n",
    "print('Orçamento Feito Com Sucesso!!')\n"
   ]
  },
  {
   "cell_type": "code",
   "execution_count": null,
   "id": "17f3e453",
   "metadata": {},
   "outputs": [],
   "source": []
  }
 ],
 "metadata": {
  "kernelspec": {
   "display_name": "Python 3 (ipykernel)",
   "language": "python",
   "name": "python3"
  },
  "language_info": {
   "codemirror_mode": {
    "name": "ipython",
    "version": 3
   },
   "file_extension": ".py",
   "mimetype": "text/x-python",
   "name": "python",
   "nbconvert_exporter": "python",
   "pygments_lexer": "ipython3",
   "version": "3.11.5"
  }
 },
 "nbformat": 4,
 "nbformat_minor": 5
}
