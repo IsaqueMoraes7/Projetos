{
 "cells": [
  {
   "cell_type": "markdown",
   "id": "6a382bc2",
   "metadata": {},
   "source": [
    "# Automação E-mail"
   ]
  },
  {
   "cell_type": "code",
   "execution_count": 2,
   "id": "b947a9a7",
   "metadata": {},
   "outputs": [],
   "source": [
    "# Instalando a Biblioteca \n",
    "!pip install pyautogui\n",
    "!pip install pyperclip\n",
    "\n",
    "\n",
    "# Importando as Bibliotecas \n",
    "import pyautogui\n",
    "import pyperclip\n",
    "import time\n",
    "\n",
    "# Time PAUSE\n",
    "time.sleep(2)\n",
    "\n",
    "# Entrando no Google Chrome\n",
    "pyautogui.click(x=20, y=748)\n",
    "pyautogui.click(x=100, y=750)\n",
    "pyperclip.copy('Google Chrome')\n",
    "pyautogui.hotkey('ctrl', 'v')\n",
    "pyautogui.hotkey('enter')\n",
    "\n",
    "# Time PAUSE\n",
    "time.sleep(2)\n",
    "\n",
    "# Pesquisando o Gmail\n",
    "pyautogui.click(x=301, y=58)\n",
    "pyperclip.copy('www.gmail.com')\n",
    "pyautogui.hotkey('ctrl', 'v')\n",
    "pyautogui.hotkey('enter')\n",
    "\n",
    "# Escrevendo o E-mail\n",
    "pyautogui.click(x=96, y= 188)\n",
    "\n",
    "# Digitando os dados \n",
    "pyperclip.copy('email@gmail.com')\n",
    "pyautogui.hotkey('ctrl', 'v')\n",
    "pyautogui.hotkey('tab')\n",
    "\n",
    "#Digitando o corpo do E-mail\n",
    "pyperclip.copy('Analise de Dados')\n",
    "pyautogui.hotkey('ctrl', 'v')\n",
    "pyautogui.hotkey('tab')\n",
    "\n",
    "# Mensagem do Corpo\n",
    "mensagem = f\"\"\"\n",
    "Ola Gestor , estou mandando as analises de dados abaixo:\n",
    " \n",
    " Cotação Maxima :\n",
    " Cotação Minima :\n",
    " Cotação Atual :\n",
    " \n",
    "Estou a disposição\n",
    "ATT!\n",
    "\"\"\"\n",
    "\n",
    "pyperclip.copy(mensagem)\n",
    "pyautogui.hotkey('ctrl', 'v')\n",
    "\n",
    "#Enviando a Mensagem\n",
    "pyautogui.hotkey('ctrl', 'enter')\n"
   ]
  },
  {
   "cell_type": "code",
   "execution_count": 55,
   "id": "f9c0552b",
   "metadata": {},
   "outputs": [
    {
     "data": {
      "text/plain": [
       "Point(x=301, y=58)"
      ]
     },
     "execution_count": 55,
     "metadata": {},
     "output_type": "execute_result"
    }
   ],
   "source": [
    "# Configurando o mouse \n",
    "\n",
    "time.sleep(5)\n",
    "pyautogui.position()"
   ]
  },
  {
   "cell_type": "code",
   "execution_count": null,
   "id": "2b70a443",
   "metadata": {},
   "outputs": [],
   "source": []
  },
  {
   "cell_type": "code",
   "execution_count": null,
   "id": "11d6d343",
   "metadata": {},
   "outputs": [],
   "source": []
  },
  {
   "cell_type": "code",
   "execution_count": null,
   "id": "d581d842",
   "metadata": {},
   "outputs": [],
   "source": []
  },
  {
   "cell_type": "code",
   "execution_count": null,
   "id": "7394d016",
   "metadata": {},
   "outputs": [],
   "source": []
  },
  {
   "cell_type": "code",
   "execution_count": null,
   "id": "3da19129",
   "metadata": {},
   "outputs": [],
   "source": []
  },
  {
   "cell_type": "code",
   "execution_count": null,
   "id": "286f15a1",
   "metadata": {},
   "outputs": [],
   "source": []
  },
  {
   "cell_type": "code",
   "execution_count": null,
   "id": "d87d994b",
   "metadata": {},
   "outputs": [],
   "source": []
  },
  {
   "cell_type": "code",
   "execution_count": null,
   "id": "96d41ca3",
   "metadata": {},
   "outputs": [],
   "source": []
  },
  {
   "cell_type": "code",
   "execution_count": null,
   "id": "39160917",
   "metadata": {},
   "outputs": [],
   "source": []
  },
  {
   "cell_type": "code",
   "execution_count": null,
   "id": "34d80264",
   "metadata": {},
   "outputs": [],
   "source": []
  },
  {
   "cell_type": "code",
   "execution_count": null,
   "id": "314b5435",
   "metadata": {},
   "outputs": [],
   "source": []
  },
  {
   "cell_type": "code",
   "execution_count": null,
   "id": "ef0fa827",
   "metadata": {},
   "outputs": [],
   "source": []
  },
  {
   "cell_type": "code",
   "execution_count": null,
   "id": "3505958e",
   "metadata": {},
   "outputs": [],
   "source": []
  },
  {
   "cell_type": "code",
   "execution_count": null,
   "id": "16448fcd",
   "metadata": {},
   "outputs": [],
   "source": []
  },
  {
   "cell_type": "code",
   "execution_count": null,
   "id": "c432205b",
   "metadata": {},
   "outputs": [],
   "source": []
  },
  {
   "cell_type": "code",
   "execution_count": null,
   "id": "f87ec8d1",
   "metadata": {},
   "outputs": [],
   "source": []
  }
 ],
 "metadata": {
  "kernelspec": {
   "display_name": "Python 3 (ipykernel)",
   "language": "python",
   "name": "python3"
  },
  "language_info": {
   "codemirror_mode": {
    "name": "ipython",
    "version": 3
   },
   "file_extension": ".py",
   "mimetype": "text/x-python",
   "name": "python",
   "nbconvert_exporter": "python",
   "pygments_lexer": "ipython3",
   "version": "3.11.5"
  }
 },
 "nbformat": 4,
 "nbformat_minor": 5
}
